{
 "cells": [
  {
   "cell_type": "code",
   "execution_count": 18,
   "metadata": {},
   "outputs": [],
   "source": [
    "import pandas as pd\n",
    "import numpy as np\n",
    "import os\n",
    "import json\n",
    "import seaborn as sns\n",
    "import matplotlib.pyplot as plt\n",
    "\n",
    "from simpletransformers.classification import ClassificationModel, ClassificationArgs\n",
    "from sklearn.metrics import classification_report, confusion_matrix\n",
    "from sklearn.model_selection import train_test_split\n",
    "\n",
    "from sklearn.model_selection import StratifiedKFold\n",
    "from simpletransformers.classification import ClassificationModel\n",
    "from sklearn.ensemble import RandomForestClassifier\n",
    "from sklearn.linear_model import LogisticRegression\n",
    "from sklearn.metrics import classification_report\n",
    "\n",
    "from scipy.special import softmax\n",
    "from scipy.stats import pearsonr"
   ]
  },
  {
   "cell_type": "code",
   "execution_count": 19,
   "metadata": {},
   "outputs": [],
   "source": [
    "import re\n",
    "import string\n",
    "\n",
    "def remove_emojis(text):\n",
    "    return ''.join(char for char in text if char in (string.ascii_letters + string.digits + string.punctuation + ' '))\n",
    "\n",
    "def remove_tags(text):\n",
    "    return re.sub(r'@\\w+', '', text)\n",
    "\n",
    "def remove_multispace(text):\n",
    "    return re.sub(r'[\\s]+|[\\t]|[.,\"\\']', ' ', text)\n",
    "\n",
    "def preprocess_pipeline(text):\n",
    "\n",
    "    text = remove_emojis(text)\n",
    "    text = remove_tags(text)\n",
    "    text = remove_multispace(text)\n",
    "\n",
    "    return text"
   ]
  },
  {
   "cell_type": "code",
   "execution_count": 20,
   "metadata": {},
   "outputs": [],
   "source": [
    "hasoc = pd.read_csv('data/hasoc-train.csv')\n",
    "hasoc['text'] = hasoc['text'].apply(preprocess_pipeline)\n",
    "\n",
    "test_data = pd.read_csv('data/olid-test.csv')\n",
    "test_data['text'] = test_data['text'].apply(preprocess_pipeline)"
   ]
  },
  {
   "cell_type": "code",
   "execution_count": 21,
   "metadata": {},
   "outputs": [],
   "source": [
    "model_args = ClassificationArgs()\n",
    "model_args.train_batch_size = 8\n",
    "model_args.num_train_epochs = 3\n",
    "model_args.learning_rate = 1e-4\n",
    "model_args.warmup_ratio = 0.1\n",
    "model_args.evaluate_during_training_steps = 20\n",
    "model_args.evaluate_during_training = True\n",
    "model_args.evaluate_during_training_verbose = True\n",
    "model_args.use_early_stopping = True\n",
    "model_args.early_stopping_patience = 20 #this was increased to 20, not 10 as in fbret paper\n",
    "#utilities:\n",
    "\n",
    "model_args.save_eval_checkpoints = False\n",
    "model_args.overwrite_output_dir = True\n",
    "model_args.use_multiprocessing=False\n",
    "model_args.use_multiprocessing_for_evaluation=False\n",
    "\n",
    "os.environ[\"TOKENIZERS_PARALLELISM\"] = \"false\""
   ]
  },
  {
   "cell_type": "code",
   "execution_count": 22,
   "metadata": {},
   "outputs": [],
   "source": [
    "def results(predictions, true_labels, file_path):\n",
    "    # metrics: precision, recall, f1-score\n",
    "    metrics = classification_report(y_true=true_labels, y_pred=predictions)\n",
    "    # confusion matrix\n",
    "    cm = confusion_matrix(true_labels, predictions)\n",
    "    sns.heatmap(cm, annot=True, fmt='d', cmap='Blues')\n",
    "    plt.xlabel('Predicted')\n",
    "    plt.ylabel('True')\n",
    "    plt.title('Confusion Matrix')\n",
    "\n",
    "    # Save the heatmap as an image\n",
    "    plt.savefig(file_path + '_confusion_matrix.png')\n",
    "    # Serialize and save the dictionary to a file\n",
    "    with open(file_path + \"metrics.json\", \"w\") as file:\n",
    "        json.dump(metrics, file)\n",
    "\n",
    "    file.close()"
   ]
  },
  {
   "cell_type": "markdown",
   "metadata": {},
   "source": [
    "### Training transformer models and meta models (logistic regression and random forrest)"
   ]
  },
  {
   "cell_type": "code",
   "execution_count": null,
   "metadata": {},
   "outputs": [
    {
     "name": "stderr",
     "output_type": "stream",
     "text": [
      "Some weights of BertForSequenceClassification were not initialized from the model checkpoint at GroNLP/hateBERT and are newly initialized: ['classifier.bias', 'classifier.weight']\n",
      "You should probably TRAIN this model on a down-stream task to be able to use it for predictions and inference.\n",
      "Some weights of BertForSequenceClassification were not initialized from the model checkpoint at bert-base-uncased and are newly initialized: ['classifier.bias', 'classifier.weight']\n",
      "You should probably TRAIN this model on a down-stream task to be able to use it for predictions and inference.\n",
      "Some weights of BertForSequenceClassification were not initialized from the model checkpoint at diptanu/fBERT and are newly initialized: ['classifier.bias', 'classifier.weight', 'bert.pooler.dense.bias', 'bert.pooler.dense.weight']\n",
      "You should probably TRAIN this model on a down-stream task to be able to use it for predictions and inference.\n"
     ]
    },
    {
     "data": {
      "application/vnd.jupyter.widget-view+json": {
       "model_id": "580cc66480194e57a441be4f612a58bf",
       "version_major": 2,
       "version_minor": 0
      },
      "text/plain": [
       "Epoch:   0%|          | 0/3 [00:00<?, ?it/s]"
      ]
     },
     "metadata": {},
     "output_type": "display_data"
    },
    {
     "data": {
      "application/vnd.jupyter.widget-view+json": {
       "model_id": "7612b018a57c4f3cb627d7d72bddc774",
       "version_major": 2,
       "version_minor": 0
      },
      "text/plain": [
       "Running Epoch 0 of 3:   0%|          | 0/311 [00:00<?, ?it/s]"
      ]
     },
     "metadata": {},
     "output_type": "display_data"
    },
    {
     "data": {
      "application/vnd.jupyter.widget-view+json": {
       "model_id": "e896a9afb8fb45d480f98e7cb0fc652d",
       "version_major": 2,
       "version_minor": 0
      },
      "text/plain": [
       "Running Epoch 1 of 3:   0%|          | 0/311 [00:00<?, ?it/s]"
      ]
     },
     "metadata": {},
     "output_type": "display_data"
    }
   ],
   "source": [
    "# Data \n",
    "\n",
    "X_test = test_data['text']\n",
    "y_test = test_data['labels']\n",
    "\n",
    "# Initialize meta-models\n",
    "meta_model_rf = RandomForestClassifier()\n",
    "meta_model_lr = LogisticRegression()\n",
    "\n",
    "# Initialize StratifiedKFold cross-validator\n",
    "skf = StratifiedKFold(n_splits=2, random_state=42, shuffle=True)\n",
    "\n",
    "\n",
    "# Initialize arrays to store meta-features (base predictions) and true labels\n",
    "meta_features = []\n",
    "true_labels = []\n",
    "\n",
    "# Perform StratifiedKFold cross-validation\n",
    "for train_index, val_index in skf.split(hasoc['text'], hasoc['labels']):\n",
    "    # this is data that be used for training transformers and it will be split\n",
    "    # to eval and train so that early stoppings can be used.\n",
    "    train_transformers = hasoc.iloc[train_index]\n",
    "    # evaluation data split for training transformers:\n",
    "    eval_data = train_transformers.sample(frac=0.15, random_state=42)\n",
    "    # training data for transformers\n",
    "    train_data = train_transformers.drop(eval_data.index)\n",
    "    \n",
    "    #this data will be used for making predictions with transformers\n",
    "    #these prediction will then be plugged to meta model for further training\n",
    "    train_meta = hasoc.iloc[val_index]  \n",
    "    \n",
    "    #initialize the models \n",
    "    \n",
    "    model_args.best_model_dir ='outputs_hatebert/hatebert_hasoc_stack'\n",
    "    hatebert_model_hasoc = ClassificationModel('bert', 'GroNLP/hateBERT', args=model_args, use_cuda=True)\n",
    "    model_args.best_model_dir ='outputs_bert/bert_hasoc_stack'\n",
    "    bert_model_hasoc = ClassificationModel(\"bert\", \"bert-base-uncased\", args=model_args, use_cuda=True)\n",
    "    model_args.best_model_dir ='outputs_fbert/fbert_hasoc_stack'\n",
    "    fbert_model_hasoc = ClassificationModel('bert', 'diptanu/fBERT', args=model_args, use_cuda=True)\n",
    "    \n",
    "    # Train base models\n",
    "    bert_model_hasoc.train_model(train_data, eval_df=eval_data)\n",
    "    hatebert_model_hasoc.train_model(train_data, eval_df=eval_data)\n",
    "    fbert_model_hasoc.train_model(train_data, eval_df=eval_data)\n",
    "\n",
    "    # Predict with base models on validation set\n",
    "    preds_bert, probs_bert = bert_model_hasoc.predict(train_meta['text'].tolist())\n",
    "    preds_hatebert, probs_hatebert = hatebert_model_hasoc.predict(train_meta['text'].tolist())\n",
    "    preds_fbert, probs_fbert = fbert_model_hasoc.predict(train_meta['text'].tolist())\n",
    "    \n",
    "    #transforming model prediction outputs to probabilities with softmax:\n",
    "    softmax_bert = softmax(probs_bert, axis=1)[:,1]\n",
    "    softmax_hatebert = softmax(probs_hatebert, axis=1)[:,1]\n",
    "    softmax_fbert = softmax(probs_fbert, axis=1)[:,1]\n",
    "\n",
    "    # Stack base model predictions\n",
    "    stacked_features = np.column_stack((preds_bert, preds_hatebert, preds_fbert,\n",
    "                                        softmax_bert, softmax_hatebert, softmax_fbert))\n",
    "\n",
    "    # Store true labels and meta-features\n",
    "    true_labels.extend(train_meta['labels'].tolist())\n",
    "    meta_features.extend(stacked_features)\n",
    "    \n",
    "\n",
    "# Train meta-models on the stacked features\n",
    "meta_model_rf.fit(meta_features, true_labels)\n",
    "meta_model_lr.fit(meta_features, true_labels)\n",
    "\n",
    "# Predict with base models on test set\n",
    "base_preds_bert, base_probs_bert = bert_model_hasoc.predict(X_test.tolist())\n",
    "base_preds_hatebert, base_probs_hatebert = hatebert_model_hasoc.predict(X_test.tolist())\n",
    "base_preds_fbert, base_probs_fbert = fbert_model_hasoc.predict(X_test.tolist())\n",
    "#additional feature - probabilities from model outputs after softmax\n",
    "base_softmax_bert = softmax(base_probs_bert, axis=1)[:,1]\n",
    "base_softmax_hatebert = softmax(base_probs_hatebert, axis=1)[:,1]\n",
    "base_softmax_fbert = softmax(base_probs_fbert, axis=1)[:,1]\n",
    "\n",
    "# Stack base model predictions for test set\n",
    "stacked_test_features = np.column_stack((base_preds_bert, base_preds_hatebert, base_preds_fbert,\n",
    "                                        base_softmax_bert, base_softmax_hatebert,base_softmax_fbert))\n",
    "\n",
    "# Use meta-models for final prediction\n",
    "ensemble_preds_rf = meta_model_rf.predict(stacked_test_features)\n",
    "ensemble_preds_lr = meta_model_lr.predict(stacked_test_features)\n"
   ]
  },
  {
   "cell_type": "markdown",
   "metadata": {},
   "source": [
    "### get correlations of models"
   ]
  },
  {
   "cell_type": "code",
   "execution_count": 12,
   "metadata": {},
   "outputs": [
    {
     "name": "stderr",
     "output_type": "stream",
     "text": [
      "/opt/conda/lib/python3.10/site-packages/scipy/stats/_stats_py.py:4781: ConstantInputWarning: An input array is constant; the correlation coefficient is not defined.\n",
      "  warnings.warn(stats.ConstantInputWarning(msg))\n"
     ]
    }
   ],
   "source": [
    "# Calculate correlations using scipy's pearsonr function\n",
    "correlation_bert_hatebert = pearsonr(base_preds_bert, base_preds_hatebert)\n",
    "correlation_bert_fbert = pearsonr(base_preds_bert, base_preds_fbert)\n",
    "correlation_hatebert_fbert = pearsonr(base_preds_hatebert, base_preds_fbert)\n",
    "\n",
    "# putting correlations to dataframe:"
   ]
  },
  {
   "cell_type": "code",
   "execution_count": 9,
   "metadata": {},
   "outputs": [
    {
     "data": {
      "text/html": [
       "<div>\n",
       "<style scoped>\n",
       "    .dataframe tbody tr th:only-of-type {\n",
       "        vertical-align: middle;\n",
       "    }\n",
       "\n",
       "    .dataframe tbody tr th {\n",
       "        vertical-align: top;\n",
       "    }\n",
       "\n",
       "    .dataframe thead th {\n",
       "        text-align: right;\n",
       "    }\n",
       "</style>\n",
       "<table border=\"1\" class=\"dataframe\">\n",
       "  <thead>\n",
       "    <tr style=\"text-align: right;\">\n",
       "      <th></th>\n",
       "      <th>corr</th>\n",
       "      <th>p-value</th>\n",
       "    </tr>\n",
       "  </thead>\n",
       "  <tbody>\n",
       "    <tr>\n",
       "      <th>bert_hatebert</th>\n",
       "      <td>NaN</td>\n",
       "      <td>NaN</td>\n",
       "    </tr>\n",
       "    <tr>\n",
       "      <th>bert_fbert</th>\n",
       "      <td>NaN</td>\n",
       "      <td>NaN</td>\n",
       "    </tr>\n",
       "    <tr>\n",
       "      <th>hatebert_fbert</th>\n",
       "      <td>0.458319</td>\n",
       "      <td>6.931286e-46</td>\n",
       "    </tr>\n",
       "  </tbody>\n",
       "</table>\n",
       "</div>"
      ],
      "text/plain": [
       "                    corr       p-value\n",
       "bert_hatebert        NaN           NaN\n",
       "bert_fbert           NaN           NaN\n",
       "hatebert_fbert  0.458319  6.931286e-46"
      ]
     },
     "execution_count": 9,
     "metadata": {},
     "output_type": "execute_result"
    }
   ],
   "source": [
    "dict_correlation_bert_hatebert = {\"corr\": correlation_bert_hatebert[0],\n",
    "                                 \"p-value\":correlation_bert_hatebert[1]}\n",
    "dict_correlation_bert_fbert = {\"corr\": correlation_bert_fbert[0],\n",
    "                                 \"p-value\":correlation_bert_fbert[1]}\n",
    "dict_correlation_hatebert_fbert = {\"corr\": correlation_hatebert_fbert[0],\n",
    "                                 \"p-value\":correlation_hatebert_fbert[1]}\n",
    "\n",
    "corr_indomain_df = pd.DataFrame([dict_correlation_bert_hatebert,dict_correlation_bert_fbert,dict_correlation_hatebert_fbert],\n",
    "            index=['bert_hatebert','bert_fbert','hatebert_fbert'])\n",
    "\n",
    "corr_indomain_df\n",
    "#corr_indomain_df.to_csv('subjMining5/results/cross-domain/stacked/cross_domain_model_correlations_stacked.csv')"
   ]
  },
  {
   "cell_type": "markdown",
   "metadata": {},
   "source": [
    "### save predictions"
   ]
  },
  {
   "cell_type": "code",
   "execution_count": null,
   "metadata": {},
   "outputs": [],
   "source": [
    "predictions_df = test_data\n",
    "predictions_df['stacked_random_forest_predictions'] = ensemble_preds_rf\n",
    "predictions_df['stacked_logistic_regression_predictions'] = ensemble_preds_lr\n",
    "predictions_df.to_csv('results/cross-domain/stacked/cross_domain_predictions_stacked_rf_lr.csv')"
   ]
  },
  {
   "cell_type": "markdown",
   "metadata": {},
   "source": [
    "### get classification metrics and confusion matrix"
   ]
  },
  {
   "cell_type": "code",
   "execution_count": null,
   "metadata": {},
   "outputs": [],
   "source": [
    "results(ensemble_preds_rf, test_data['labels'], file_path='results/cross-domain/stacked/cross_domain_stacked_rf_results')"
   ]
  },
  {
   "cell_type": "code",
   "execution_count": null,
   "metadata": {},
   "outputs": [],
   "source": [
    "results(ensemble_preds_lr, test_data['labels'], file_path='results/cross-domain/stacked/cross_domain_stacked_lr_results')"
   ]
  },
  {
   "cell_type": "code",
   "execution_count": null,
   "metadata": {},
   "outputs": [],
   "source": []
  }
 ],
 "metadata": {
  "environment": {
   "kernel": "conda-root-py",
   "name": "workbench-notebooks.m111",
   "type": "gcloud",
   "uri": "gcr.io/deeplearning-platform-release/workbench-notebooks:m111"
  },
  "kernelspec": {
   "display_name": "Python 3",
   "language": "python",
   "name": "conda-root-py"
  },
  "language_info": {
   "codemirror_mode": {
    "name": "ipython",
    "version": 3
   },
   "file_extension": ".py",
   "mimetype": "text/x-python",
   "name": "python",
   "nbconvert_exporter": "python",
   "pygments_lexer": "ipython3",
   "version": "3.10.12"
  }
 },
 "nbformat": 4,
 "nbformat_minor": 4
}
