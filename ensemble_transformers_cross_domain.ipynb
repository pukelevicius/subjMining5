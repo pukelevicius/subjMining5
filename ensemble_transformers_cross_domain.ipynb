{
 "cells": [
  {
   "cell_type": "code",
   "execution_count": 5,
   "id": "96ecd5a7-a3b6-4ff1-81c3-d999d8967010",
   "metadata": {},
   "outputs": [],
   "source": [
    "import pandas as pd\n",
    "import numpy as np\n",
    "import os\n",
    "import json\n",
    "import seaborn as sns\n",
    "import matplotlib.pyplot as plt\n",
    "import torch\n",
    "\n",
    "from simpletransformers.classification import ClassificationModel, ClassificationArgs\n",
    "from sklearn.metrics import classification_report, confusion_matrix\n",
    "from sklearn.model_selection import train_test_split\n",
    "\n",
    "from scipy.special import softmax\n",
    "from scipy.stats import pearsonr"
   ]
  },
  {
   "cell_type": "code",
   "execution_count": 7,
   "id": "04a7abfa-50a8-49f7-a6a9-4b3a0ea8e598",
   "metadata": {},
   "outputs": [],
   "source": [
    "import pandas as pd\n",
    "import re\n",
    "import string\n",
    "\n",
    "def remove_emojis(text):\n",
    "    return ''.join(char for char in text if char in (string.ascii_letters + string.digits + string.punctuation + ' '))\n",
    "\n",
    "def remove_tags(text):\n",
    "    return re.sub(r'@\\w+', '', text)\n",
    "\n",
    "def remove_multispace(text):\n",
    "    return re.sub(r'[\\s]+|[\\t]|[.,\"\\']', ' ', text)\n",
    "\n",
    "def preprocess_pipeline(text):\n",
    "\n",
    "    text = remove_emojis(text)\n",
    "    text = remove_tags(text)\n",
    "    text = remove_multispace(text)\n",
    "\n",
    "    return text"
   ]
  },
  {
   "cell_type": "code",
   "execution_count": 8,
   "id": "29d18554-000c-4653-be0c-3f60b47e74cf",
   "metadata": {},
   "outputs": [],
   "source": [
    "def results(predictions, true_labels, file_path):\n",
    "    # metrics: precision, recall, f1-score\n",
    "    metrics = classification_report(y_true=true_labels, y_pred=predictions)\n",
    "    # confusion matrix\n",
    "    cm = confusion_matrix(true_labels, predictions)\n",
    "    sns.heatmap(cm, annot=True, fmt='d', cmap='Blues')\n",
    "    plt.xlabel('Predicted')\n",
    "    plt.ylabel('True')\n",
    "    plt.title('Confusion Matrix')\n",
    "\n",
    "    # Save the heatmap as an image\n",
    "    plt.savefig(file_path + '_confusion_matrix.png')\n",
    "    # Serialize and save the dictionary to a file\n",
    "    with open(file_path + \"metrics.json\", \"w\") as file:\n",
    "        json.dump(metrics, file)\n",
    "\n",
    "    file.close()\n"
   ]
  },
  {
   "cell_type": "code",
   "execution_count": 9,
   "id": "b0914e8f-72bd-4602-a6cf-7694d29821bb",
   "metadata": {},
   "outputs": [],
   "source": [
    "olid = pd.read_csv('data/olid-train-small.csv')\n",
    "olid['text'] = olid['text'].apply(preprocess_pipeline)\n",
    "\n",
    "hasoc = pd.read_csv('data/hasoc-train.csv')\n",
    "hasoc['text'] = hasoc['text'].apply(preprocess_pipeline)\n",
    "\n",
    "test_data = pd.read_csv('data/olid-test.csv')\n",
    "test_data['text'] = test_data['text'].apply(preprocess_pipeline)"
   ]
  },
  {
   "cell_type": "markdown",
   "id": "4ef6945c-ab58-412e-9db2-0c09fcb3d725",
   "metadata": {},
   "source": [
    "## training setup from fBert paper:\n",
    "We used a batch-size of eight, Adam optimiser\n",
    "with learning rate 1e−4, and a linear learning rate\n",
    "warm-up over 10% of the training data. During the\n",
    "training process, the parameters of the transformer\n",
    "model, as well as the parameters of the subsequent\n",
    "layers, were updated. The models were trained\n",
    "using only training data. Furthermore, they were\n",
    "evaluated while training using an evaluation set that\n",
    "had one fifth of the rows in training data. We performed early stopping if the evaluation loss did not\n",
    "improve over ten evaluation steps. All the models\n",
    "were trained for three epochs."
   ]
  },
  {
   "cell_type": "markdown",
   "id": "6b7e50c4-164c-4180-83e8-199df33d6278",
   "metadata": {},
   "source": [
    "## cross-domain experiments"
   ]
  },
  {
   "cell_type": "code",
   "execution_count": 10,
   "id": "a5ae6e81-81cb-4f22-b2b2-2aa992f1bca1",
   "metadata": {},
   "outputs": [],
   "source": [
    "# Load your training and evaluation data as pandas DataFrames\n",
    "eval_fraction = 0.15\n",
    "\n",
    "# Randomly sample data for evaluation set\n",
    "eval_data = hasoc.sample(frac=eval_fraction, random_state=42)\n",
    "\n",
    "# Data not included in the evaluation set is used for training\n",
    "train_data = hasoc.drop(eval_data.index)"
   ]
  },
  {
   "cell_type": "code",
   "execution_count": 11,
   "id": "ec34eca5-e403-452a-bb54-d229127e52a3",
   "metadata": {},
   "outputs": [],
   "source": [
    "#experimental setup:\n",
    "model_args = ClassificationArgs()\n",
    "model_args.train_batch_size = 8\n",
    "model_args.num_train_epochs = 3\n",
    "model_args.learning_rate = 1e-4\n",
    "model_args.warmup_ratio = 0.1\n",
    "model_args.evaluate_during_training_steps = 20\n",
    "model_args.evaluate_during_training = True\n",
    "model_args.evaluate_during_training_verbose = True\n",
    "model_args.use_early_stopping = True\n",
    "model_args.early_stopping_patience = 30 #this was increased to 20, not 10 as in fbret paper\n",
    "#utilities:\n",
    "\n",
    "model_args.save_eval_checkpoints = False\n",
    "model_args.overwrite_output_dir = True\n",
    "model_args.use_multiprocessing=False\n",
    "model_args.use_multiprocessing_for_evaluation=False\n",
    "\n",
    "os.environ[\"TOKENIZERS_PARALLELISM\"] = \"false\""
   ]
  },
  {
   "cell_type": "code",
   "execution_count": 12,
   "id": "1020dbcd-8a6e-4bd1-9045-71e1c540a151",
   "metadata": {},
   "outputs": [
    {
     "name": "stderr",
     "output_type": "stream",
     "text": [
      "Some weights of BertForSequenceClassification were not initialized from the model checkpoint at bert-base-uncased and are newly initialized: ['classifier.bias', 'classifier.weight']\n",
      "You should probably TRAIN this model on a down-stream task to be able to use it for predictions and inference.\n"
     ]
    },
    {
     "data": {
      "application/vnd.jupyter.widget-view+json": {
       "model_id": "938398415ef743318f57c3645e6aa0b2",
       "version_major": 2,
       "version_minor": 0
      },
      "text/plain": [
       "Epoch:   0%|          | 0/3 [00:00<?, ?it/s]"
      ]
     },
     "metadata": {},
     "output_type": "display_data"
    },
    {
     "data": {
      "application/vnd.jupyter.widget-view+json": {
       "model_id": "420a147517504fc5bbde6454e0832a4c",
       "version_major": 2,
       "version_minor": 0
      },
      "text/plain": [
       "Running Epoch 0 of 3:   0%|          | 0/622 [00:00<?, ?it/s]"
      ]
     },
     "metadata": {},
     "output_type": "display_data"
    },
    {
     "data": {
      "application/vnd.jupyter.widget-view+json": {
       "model_id": "fdccdf1ebf3244e1bd568650e6ee05f7",
       "version_major": 2,
       "version_minor": 0
      },
      "text/plain": [
       "Running Epoch 1 of 3:   0%|          | 0/622 [00:00<?, ?it/s]"
      ]
     },
     "metadata": {},
     "output_type": "display_data"
    },
    {
     "data": {
      "application/vnd.jupyter.widget-view+json": {
       "model_id": "120006e28a8c49409ead993f9b11698e",
       "version_major": 2,
       "version_minor": 0
      },
      "text/plain": [
       "Running Evaluation:   0%|          | 0/110 [00:00<?, ?it/s]"
      ]
     },
     "metadata": {},
     "output_type": "display_data"
    }
   ],
   "source": [
    "model_args.best_model_dir ='outputs/bert_hasoc'\n",
    "\n",
    "# Create a ClassificationModel\n",
    "bert_model_hasoc = ClassificationModel(\n",
    "    \"bert\", \"bert-base-uncased\", args=model_args,\n",
    ")\n",
    "\n",
    "# Fine-tune the model\n",
    "bert_model_hasoc.train_model(train_data, eval_df=eval_data, output_dir='outputs/bert_hasoc')\n",
    "\n",
    "# Make predictions on new data\n",
    "#predictions, raw_outputs = model.predict([\"Example text 1\", \"Example text 2\"])\n",
    "\n",
    "# Evaluate the model\n",
    "bert_model_hasoc_result, bert_model_hasoc_outputs, bert_model_hasoc_wrong_predictions = bert_model_hasoc.eval_model(eval_data)\n"
   ]
  },
  {
   "cell_type": "code",
   "execution_count": 13,
   "id": "ce71edda-bb0d-4171-b7ba-7ba7c9af1dfe",
   "metadata": {},
   "outputs": [
    {
     "name": "stderr",
     "output_type": "stream",
     "text": [
      "Some weights of BertForSequenceClassification were not initialized from the model checkpoint at GroNLP/hateBERT and are newly initialized: ['classifier.bias', 'classifier.weight']\n",
      "You should probably TRAIN this model on a down-stream task to be able to use it for predictions and inference.\n"
     ]
    },
    {
     "data": {
      "application/vnd.jupyter.widget-view+json": {
       "model_id": "f381afd55a674c09a5006aa108695a5c",
       "version_major": 2,
       "version_minor": 0
      },
      "text/plain": [
       "Epoch:   0%|          | 0/3 [00:00<?, ?it/s]"
      ]
     },
     "metadata": {},
     "output_type": "display_data"
    },
    {
     "data": {
      "application/vnd.jupyter.widget-view+json": {
       "model_id": "bbed84a7ad2c44dabfb03c05dfcb5d89",
       "version_major": 2,
       "version_minor": 0
      },
      "text/plain": [
       "Running Epoch 0 of 3:   0%|          | 0/622 [00:00<?, ?it/s]"
      ]
     },
     "metadata": {},
     "output_type": "display_data"
    },
    {
     "data": {
      "application/vnd.jupyter.widget-view+json": {
       "model_id": "00ecc0a7b3a247cea3d4266583f582b0",
       "version_major": 2,
       "version_minor": 0
      },
      "text/plain": [
       "Running Epoch 1 of 3:   0%|          | 0/622 [00:00<?, ?it/s]"
      ]
     },
     "metadata": {},
     "output_type": "display_data"
    },
    {
     "data": {
      "application/vnd.jupyter.widget-view+json": {
       "model_id": "67448dfc0ed24980ba087dbfe92f26c5",
       "version_major": 2,
       "version_minor": 0
      },
      "text/plain": [
       "Running Epoch 2 of 3:   0%|          | 0/622 [00:00<?, ?it/s]"
      ]
     },
     "metadata": {},
     "output_type": "display_data"
    },
    {
     "data": {
      "application/vnd.jupyter.widget-view+json": {
       "model_id": "08451adb14fc4dcd8ac1588dad5d96f2",
       "version_major": 2,
       "version_minor": 0
      },
      "text/plain": [
       "Running Evaluation:   0%|          | 0/110 [00:00<?, ?it/s]"
      ]
     },
     "metadata": {},
     "output_type": "display_data"
    }
   ],
   "source": [
    "model_args.best_model_dir ='outputs/hatebert_hasoc'\n",
    "\n",
    "# Create a ClassificationModel\n",
    "hatebert_model_hasoc = ClassificationModel(\n",
    "    'bert', 'GroNLP/hateBERT', args=model_args\n",
    ")\n",
    "\n",
    "# Fine-tune the model\n",
    "hatebert_model_hasoc.train_model(train_data, eval_df=eval_data, output_dir='output/hatebert_hasoc')\n",
    "\n",
    "# Make predictions on new data\n",
    "#predictions, raw_outputs = model.predict([\"Example text 1\", \"Example text 2\"])\n",
    "\n",
    "# Evaluate the model\n",
    "hatebert_model_hasoc_result, hatebert_model_hasoc_outputs, hatebert_model_hasoc_wrong_predictions = hatebert_model_hasoc.eval_model(eval_data)\n"
   ]
  },
  {
   "cell_type": "code",
   "execution_count": 14,
   "id": "7c7d3091-f872-4e99-a314-f2d96c470192",
   "metadata": {},
   "outputs": [
    {
     "name": "stderr",
     "output_type": "stream",
     "text": [
      "Some weights of BertForSequenceClassification were not initialized from the model checkpoint at diptanu/fBERT and are newly initialized: ['bert.pooler.dense.bias', 'bert.pooler.dense.weight', 'classifier.bias', 'classifier.weight']\n",
      "You should probably TRAIN this model on a down-stream task to be able to use it for predictions and inference.\n"
     ]
    },
    {
     "data": {
      "application/vnd.jupyter.widget-view+json": {
       "model_id": "e3e2ade7680f40dc95b7272001d52732",
       "version_major": 2,
       "version_minor": 0
      },
      "text/plain": [
       "Epoch:   0%|          | 0/3 [00:00<?, ?it/s]"
      ]
     },
     "metadata": {},
     "output_type": "display_data"
    },
    {
     "data": {
      "application/vnd.jupyter.widget-view+json": {
       "model_id": "97d5ae90969143fbab0472d0f7e9fc19",
       "version_major": 2,
       "version_minor": 0
      },
      "text/plain": [
       "Running Epoch 0 of 3:   0%|          | 0/622 [00:00<?, ?it/s]"
      ]
     },
     "metadata": {},
     "output_type": "display_data"
    },
    {
     "data": {
      "application/vnd.jupyter.widget-view+json": {
       "model_id": "285a82d7ef1c45e5814f9d88693828a0",
       "version_major": 2,
       "version_minor": 0
      },
      "text/plain": [
       "Running Epoch 1 of 3:   0%|          | 0/622 [00:00<?, ?it/s]"
      ]
     },
     "metadata": {},
     "output_type": "display_data"
    },
    {
     "data": {
      "application/vnd.jupyter.widget-view+json": {
       "model_id": "d9dafe58c5d5474eb200f7ff172d20ed",
       "version_major": 2,
       "version_minor": 0
      },
      "text/plain": [
       "Running Epoch 2 of 3:   0%|          | 0/622 [00:00<?, ?it/s]"
      ]
     },
     "metadata": {},
     "output_type": "display_data"
    },
    {
     "data": {
      "application/vnd.jupyter.widget-view+json": {
       "model_id": "10727565d9bb4372b5365a7b4c0e864c",
       "version_major": 2,
       "version_minor": 0
      },
      "text/plain": [
       "Running Evaluation:   0%|          | 0/110 [00:00<?, ?it/s]"
      ]
     },
     "metadata": {},
     "output_type": "display_data"
    }
   ],
   "source": [
    "model_args.best_model_dir ='outputs/fbert_hasoc'\n",
    "\n",
    "# Create a ClassificationModel\n",
    "fbert_model_hasoc = ClassificationModel(\n",
    "    'bert', 'diptanu/fBERT', args=model_args\n",
    ")\n",
    "\n",
    "# Fine-tune the model\n",
    "fbert_model_hasoc.train_model(train_data, eval_df=eval_data, output_dir='output/fbert_hasoc')\n",
    "\n",
    "# Make predictions on new data\n",
    "#predictions, raw_outputs = model.predict([\"Example text 1\", \"Example text 2\"])\n",
    "\n",
    "# Evaluate the model\n",
    "fbert_model_hasoc_result, fbert_model_hasoc_outputs, fbert_model_hasoc_wrong_predictions = fbert_model_hasoc.eval_model(eval_data)\n"
   ]
  },
  {
   "cell_type": "markdown",
   "id": "c0b5ffd6-e579-45cb-951c-606588a86d67",
   "metadata": {},
   "source": [
    "### ensemble methods\n",
    "hard majority voting:"
   ]
  },
  {
   "cell_type": "code",
   "execution_count": 15,
   "id": "45137488-6f78-4cb7-8688-d812c5c9edb5",
   "metadata": {},
   "outputs": [
    {
     "data": {
      "application/vnd.jupyter.widget-view+json": {
       "model_id": "16fab0290c744002b6068b5cb0d8dfca",
       "version_major": 2,
       "version_minor": 0
      },
      "text/plain": [
       "  0%|          | 0/108 [00:00<?, ?it/s]"
      ]
     },
     "metadata": {},
     "output_type": "display_data"
    },
    {
     "data": {
      "application/vnd.jupyter.widget-view+json": {
       "model_id": "e719207148b94c7a8d6fab45f058a157",
       "version_major": 2,
       "version_minor": 0
      },
      "text/plain": [
       "  0%|          | 0/108 [00:00<?, ?it/s]"
      ]
     },
     "metadata": {},
     "output_type": "display_data"
    },
    {
     "data": {
      "application/vnd.jupyter.widget-view+json": {
       "model_id": "120b32f7892448bba032d5ccbd22d377",
       "version_major": 2,
       "version_minor": 0
      },
      "text/plain": [
       "  0%|          | 0/108 [00:00<?, ?it/s]"
      ]
     },
     "metadata": {},
     "output_type": "display_data"
    }
   ],
   "source": [
    "# Load individual pre-trained transformer models\n",
    "bert_model_hasoc = ClassificationModel(\"bert\", \"outputs/bert_hasoc\")\n",
    "hatebert_model_hasoc = ClassificationModel(\"bert\", \"outputs/hatebert_hasoc\")\n",
    "fbert_model_hasoc = ClassificationModel(\"bert\", \"outputs/fbert_hasoc\")\n",
    "\n",
    "# Make predictions using individual models\n",
    "bert_hasoc_predictions, bert_model_hasoc_outputs = bert_model_hasoc.predict(test_data[\"text\"].tolist())\n",
    "hatebert_hasoc_predictions, hatebert_model_hasoc_outputs = hatebert_model_hasoc.predict(test_data[\"text\"].tolist())\n",
    "fbert_hasoc_predictions, fbert_model_hasoc_outputs = fbert_model_hasoc.predict(test_data[\"text\"].tolist())\n",
    "\n",
    "# Perform hard majority voting ensemble\n",
    "hard_majority_predictions = np.array([np.argmax(np.bincount(votes)) for votes in zip(bert_hasoc_predictions,\n",
    "                                                                                     hatebert_hasoc_predictions,\n",
    "                                                                                     fbert_hasoc_predictions)])"
   ]
  },
  {
   "cell_type": "markdown",
   "id": "d4a1c213-eb8d-4d70-b31d-e40b67a10a28",
   "metadata": {
    "jupyter": {
     "outputs_hidden": true
    },
    "tags": []
   },
   "source": [
    "## soft majority voting"
   ]
  },
  {
   "cell_type": "code",
   "execution_count": 16,
   "id": "e83dea96-2adc-45ad-919d-dd91a4bb55f8",
   "metadata": {},
   "outputs": [],
   "source": [
    "# get probabilities from model prediction outputs with softmax:\n",
    "pr_bert = softmax(bert_model_hasoc_outputs, axis=1)\n",
    "pr_hatebert = softmax(hatebert_model_hasoc_outputs, axis=1)\n",
    "pr_fbert = softmax(fbert_model_hasoc_outputs, axis=1)\n",
    "#get the average of probabilities:\n",
    "average_probabilities = (pr_bert + pr_hatebert + pr_fbert) / 3\n",
    "# Get the class index with the highest average probability for each sample\n",
    "soft_majority_predictions = np.argmax(average_probabilities, axis=1)"
   ]
  },
  {
   "cell_type": "markdown",
   "id": "a2fc2066-bcc1-426a-82bf-30c95505b520",
   "metadata": {},
   "source": [
    "### get correlations between transformer models:"
   ]
  },
  {
   "cell_type": "code",
   "execution_count": 17,
   "id": "56c954af-c65a-42a3-a5df-023713695005",
   "metadata": {},
   "outputs": [],
   "source": [
    "# Calculate correlations using scipy's pearsonr function\n",
    "correlation_bert_hatebert = pearsonr(bert_hasoc_predictions, hatebert_hasoc_predictions)\n",
    "correlation_bert_fbert = pearsonr(bert_hasoc_predictions, fbert_hasoc_predictions)\n",
    "correlation_hatebert_fbert = pearsonr(hatebert_hasoc_predictions, fbert_hasoc_predictions)\n",
    "\n",
    "# putting correlations to dataframe:"
   ]
  },
  {
   "cell_type": "code",
   "execution_count": 20,
   "id": "02ff07aa-5f09-42a0-90ae-a51669808a5b",
   "metadata": {},
   "outputs": [],
   "source": [
    "dict_correlation_bert_hatebert = {\"corr\": correlation_bert_hatebert[0],\n",
    "                                 \"p-value\":correlation_bert_hatebert[1]}\n",
    "dict_correlation_bert_fbert = {\"corr\": correlation_bert_fbert[0],\n",
    "                                 \"p-value\":correlation_bert_fbert[1]}\n",
    "dict_correlation_hatebert_fbert = {\"corr\": correlation_hatebert_fbert[0],\n",
    "                                 \"p-value\":correlation_hatebert_fbert[1]}\n",
    "\n",
    "corr_indomain_df = pd.DataFrame([dict_correlation_bert_hatebert,dict_correlation_bert_fbert,dict_correlation_hatebert_fbert],\n",
    "            index=['bert_hatebert','bert_fbert','hatebert_fbert'])\n",
    "\n",
    "corr_indomain_df\n",
    "corr_indomain_df.to_csv('results/cross-domain/model_crossdomain_correlations_hard_soft.csv')"
   ]
  },
  {
   "cell_type": "markdown",
   "id": "77561824-7b45-4e92-b065-012486e8ae14",
   "metadata": {},
   "source": [
    "### save predictions:"
   ]
  },
  {
   "cell_type": "code",
   "execution_count": 21,
   "id": "03ffc521-52c0-49a4-bd25-d12679e6905d",
   "metadata": {},
   "outputs": [],
   "source": [
    "predictions_df = test_data\n",
    "predictions_df['hard_majority_predictions'] = hard_majority_predictions\n",
    "predictions_df['soft_majority_predictions'] = soft_majority_predictions\n",
    "predictions_df.to_csv('results/cross-domain/predictions_crossdomain_hard_soft.csv')"
   ]
  },
  {
   "cell_type": "markdown",
   "id": "e930cacd-5278-42c7-892f-f1dabbbc462e",
   "metadata": {},
   "source": [
    "### get classification report and confussion matrix"
   ]
  },
  {
   "cell_type": "code",
   "execution_count": 22,
   "id": "377b8a4e-4782-4732-a47a-a7ccc4d8595c",
   "metadata": {},
   "outputs": [
    {
     "data": {
      "image/png": "[encoded data removed]",
      "text/plain": [
       "<Figure size 640x480 with 2 Axes>"
      ]
     },
     "metadata": {},
     "output_type": "display_data"
    }
   ],
   "source": [
    "results(hard_majority_predictions, test_data['labels'], file_path='results/cross-domain/hard majority voting/hard_majority_results')"
   ]
  },
  {
   "cell_type": "code",
   "execution_count": 24,
   "id": "51e27d39-7d8f-410e-be43-99e39e8e08e5",
   "metadata": {},
   "outputs": [
    {
     "data": {
      "image/png": "[encoded data removed]",
      "text/plain": [
       "<Figure size 640x480 with 2 Axes>"
      ]
     },
     "metadata": {},
     "output_type": "display_data"
    }
   ],
   "source": [
    "results(soft_majority_predictions, test_data['labels'], file_path='results/cross-domain/soft majority voting/soft_majority_results')"
   ]
  }
 ],
 "metadata": {
  "environment": {
   "kernel": "conda-root-py",
   "name": "workbench-notebooks.m111",
   "type": "gcloud",
   "uri": "gcr.io/deeplearning-platform-release/workbench-notebooks:m111"
  },
  "kernelspec": {
   "display_name": "Python 3",
   "language": "python",
   "name": "conda-root-py"
  },
  "language_info": {
   "codemirror_mode": {
    "name": "ipython",
    "version": 3
   },
   "file_extension": ".py",
   "mimetype": "text/x-python",
   "name": "python",
   "nbconvert_exporter": "python",
   "pygments_lexer": "ipython3",
   "version": "3.10.12"
  }
 },
 "nbformat": 4,
 "nbformat_minor": 5
}
