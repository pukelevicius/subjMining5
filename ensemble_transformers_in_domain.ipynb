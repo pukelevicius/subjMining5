{
 "cells": [
  {
   "cell_type": "code",
   "execution_count": 18,
   "id": "96ecd5a7-a3b6-4ff1-81c3-d999d8967010",
   "metadata": {},
   "outputs": [],
   "source": [
    "import pandas as pd\n",
    "import numpy as np\n",
    "import os\n",
    "import json\n",
    "import seaborn as sns\n",
    "import matplotlib.pyplot as plt\n",
    "import torch\n",
    "\n",
    "from simpletransformers.classification import ClassificationModel, ClassificationArgs\n",
    "from sklearn.metrics import classification_report, confusion_matrix\n",
    "from sklearn.model_selection import train_test_split\n",
    "\n",
    "from scipy.special import softmax\n",
    "from scipy.stats import pearsonr"
   ]
  },
  {
   "cell_type": "code",
   "execution_count": 11,
   "id": "04a7abfa-50a8-49f7-a6a9-4b3a0ea8e598",
   "metadata": {},
   "outputs": [],
   "source": [
    "import pandas as pd\n",
    "import re\n",
    "import string\n",
    "\n",
    "def remove_emojis(text):\n",
    "    return ''.join(char for char in text if char in (string.ascii_letters + string.digits + string.punctuation + ' '))\n",
    "\n",
    "def remove_tags(text):\n",
    "    return re.sub(r'@\\w+', '', text)\n",
    "\n",
    "def remove_multispace(text):\n",
    "    return re.sub(r'[\\s]+|[\\t]|[.,\"\\']', ' ', text)\n",
    "\n",
    "def preprocess_pipeline(text):\n",
    "\n",
    "    text = remove_emojis(text)\n",
    "    text = remove_tags(text)\n",
    "    text = remove_multispace(text)\n",
    "\n",
    "    return text"
   ]
  },
  {
   "cell_type": "code",
   "execution_count": 54,
   "id": "29d18554-000c-4653-be0c-3f60b47e74cf",
   "metadata": {},
   "outputs": [],
   "source": [
    "def results(predictions, true_labels, file_path):\n",
    "    # metrics: precision, recall, f1-score\n",
    "    metrics = classification_report(y_true=true_labels, y_pred=predictions)\n",
    "    # confusion matrix\n",
    "    cm = confusion_matrix(true_labels, predictions)\n",
    "    sns.heatmap(cm, annot=True, fmt='d', cmap='Blues')\n",
    "    plt.xlabel('Predicted')\n",
    "    plt.ylabel('True')\n",
    "    plt.title('Confusion Matrix')\n",
    "\n",
    "    # Save the heatmap as an image\n",
    "    plt.savefig(file_path + '_confusion_matrix.png')\n",
    "    # Serialize and save the dictionary to a file\n",
    "    with open(file_path + \"metrics.json\", \"w\") as file:\n",
    "        json.dump(metrics, file)\n",
    "\n",
    "    file.close()\n"
   ]
  },
  {
   "cell_type": "code",
   "execution_count": 12,
   "id": "b0914e8f-72bd-4602-a6cf-7694d29821bb",
   "metadata": {},
   "outputs": [],
   "source": [
    "olid = pd.read_csv('data/olid-train-small.csv')\n",
    "olid['text'] = olid['text'].apply(preprocess_pipeline)\n",
    "\n",
    "hasoc = pd.read_csv('data/hasoc-train.csv')\n",
    "hasoc['text'] = hasoc['text'].apply(preprocess_pipeline)\n",
    "\n",
    "test_data = pd.read_csv('data/olid-test.csv')\n",
    "test_data['text'] = test_data['text'].apply(preprocess_pipeline)"
   ]
  },
  {
   "cell_type": "markdown",
   "id": "4ef6945c-ab58-412e-9db2-0c09fcb3d725",
   "metadata": {},
   "source": [
    "## training setup from fBert paper:\n",
    "We used a batch-size of eight, Adam optimiser\n",
    "with learning rate 1e−4, and a linear learning rate\n",
    "warm-up over 10% of the training data. During the\n",
    "training process, the parameters of the transformer\n",
    "model, as well as the parameters of the subsequent\n",
    "layers, were updated. The models were trained\n",
    "using only training data. Furthermore, they were\n",
    "evaluated while training using an evaluation set that\n",
    "had one fifth of the rows in training data. We performed early stopping if the evaluation loss did not\n",
    "improve over ten evaluation steps. All the models\n",
    "were trained for three epochs."
   ]
  },
  {
   "cell_type": "markdown",
   "id": "6b7e50c4-164c-4180-83e8-199df33d6278",
   "metadata": {},
   "source": [
    "## in-domain experiments"
   ]
  },
  {
   "cell_type": "code",
   "execution_count": 13,
   "id": "a5ae6e81-81cb-4f22-b2b2-2aa992f1bca1",
   "metadata": {},
   "outputs": [],
   "source": [
    "# Load your training and evaluation data as pandas DataFrames\n",
    "eval_fraction = 0.15\n",
    "\n",
    "# Randomly sample data for evaluation set\n",
    "eval_data = olid.sample(frac=eval_fraction, random_state=42)\n",
    "\n",
    "# Data not included in the evaluation set is used for training\n",
    "train_data = olid.drop(eval_data.index)"
   ]
  },
  {
   "cell_type": "code",
   "execution_count": 14,
   "id": "ec34eca5-e403-452a-bb54-d229127e52a3",
   "metadata": {},
   "outputs": [],
   "source": [
    "#experimental setup:\n",
    "model_args = ClassificationArgs()\n",
    "model_args.train_batch_size = 8\n",
    "model_args.num_train_epochs = 3\n",
    "model_args.learning_rate = 1e-4\n",
    "model_args.warmup_ratio = 0.1\n",
    "model_args.evaluate_during_training_steps = 20\n",
    "model_args.evaluate_during_training = True\n",
    "model_args.evaluate_during_training_verbose = True\n",
    "model_args.use_early_stopping = True\n",
    "model_args.early_stopping_patience = 30 #this was increased to 20, not 10 as in fbret paper\n",
    "#utilities:\n",
    "\n",
    "model_args.save_eval_checkpoints = False\n",
    "model_args.overwrite_output_dir = True\n",
    "model_args.use_multiprocessing=False\n",
    "model_args.use_multiprocessing_for_evaluation=False\n",
    "\n",
    "os.environ[\"TOKENIZERS_PARALLELISM\"] = \"false\""
   ]
  },
  {
   "cell_type": "code",
   "execution_count": 15,
   "id": "1020dbcd-8a6e-4bd1-9045-71e1c540a151",
   "metadata": {},
   "outputs": [
    {
     "name": "stderr",
     "output_type": "stream",
     "text": [
      "Some weights of BertForSequenceClassification were not initialized from the model checkpoint at bert-base-uncased and are newly initialized: ['classifier.bias', 'classifier.weight']\n",
      "You should probably TRAIN this model on a down-stream task to be able to use it for predictions and inference.\n"
     ]
    },
    {
     "data": {
      "application/vnd.jupyter.widget-view+json": {
       "model_id": "0d497b8f25034de2bccbd0afb5aba6d4",
       "version_major": 2,
       "version_minor": 0
      },
      "text/plain": [
       "Epoch:   0%|          | 0/3 [00:00<?, ?it/s]"
      ]
     },
     "metadata": {},
     "output_type": "display_data"
    },
    {
     "data": {
      "application/vnd.jupyter.widget-view+json": {
       "model_id": "eb26ba3cdc2a401b998e40917bb54cf9",
       "version_major": 2,
       "version_minor": 0
      },
      "text/plain": [
       "Running Epoch 0 of 3:   0%|          | 0/622 [00:00<?, ?it/s]"
      ]
     },
     "metadata": {},
     "output_type": "display_data"
    },
    {
     "data": {
      "application/vnd.jupyter.widget-view+json": {
       "model_id": "da14e85baedc4b2593999f98b1ee9e23",
       "version_major": 2,
       "version_minor": 0
      },
      "text/plain": [
       "Running Epoch 1 of 3:   0%|          | 0/622 [00:00<?, ?it/s]"
      ]
     },
     "metadata": {},
     "output_type": "display_data"
    },
    {
     "data": {
      "application/vnd.jupyter.widget-view+json": {
       "model_id": "603e94d79e354401a4df2103ffe1d78a",
       "version_major": 2,
       "version_minor": 0
      },
      "text/plain": [
       "Running Evaluation:   0%|          | 0/110 [00:00<?, ?it/s]"
      ]
     },
     "metadata": {},
     "output_type": "display_data"
    }
   ],
   "source": [
    "model_args.best_model_dir ='outputs/bert_olid'\n",
    "\n",
    "# Create a ClassificationModel\n",
    "bert_model_olid = ClassificationModel(\n",
    "    \"bert\", \"bert-base-uncased\", args=model_args,\n",
    ")\n",
    "\n",
    "# Fine-tune the model\n",
    "bert_model_olid.train_model(train_data, eval_df=eval_data, output_dir='outputs/bert_olid')\n",
    "\n",
    "# Make predictions on new data\n",
    "#predictions, raw_outputs = model.predict([\"Example text 1\", \"Example text 2\"])\n",
    "\n",
    "# Evaluate the model\n",
    "bert_model_olid_result, bert_model_olid_outputs, bert_model_olid_wrong_predictions = bert_model_olid.eval_model(eval_data)\n"
   ]
  },
  {
   "cell_type": "code",
   "execution_count": 16,
   "id": "ce71edda-bb0d-4171-b7ba-7ba7c9af1dfe",
   "metadata": {},
   "outputs": [
    {
     "name": "stderr",
     "output_type": "stream",
     "text": [
      "Some weights of BertForSequenceClassification were not initialized from the model checkpoint at GroNLP/hateBERT and are newly initialized: ['classifier.bias', 'classifier.weight']\n",
      "You should probably TRAIN this model on a down-stream task to be able to use it for predictions and inference.\n"
     ]
    },
    {
     "data": {
      "application/vnd.jupyter.widget-view+json": {
       "model_id": "8eceb05976f54007a5858ff039ca681a",
       "version_major": 2,
       "version_minor": 0
      },
      "text/plain": [
       "Epoch:   0%|          | 0/3 [00:00<?, ?it/s]"
      ]
     },
     "metadata": {},
     "output_type": "display_data"
    },
    {
     "data": {
      "application/vnd.jupyter.widget-view+json": {
       "model_id": "72d36b3577334b16b300f239f4d0f10d",
       "version_major": 2,
       "version_minor": 0
      },
      "text/plain": [
       "Running Epoch 0 of 3:   0%|          | 0/622 [00:00<?, ?it/s]"
      ]
     },
     "metadata": {},
     "output_type": "display_data"
    },
    {
     "data": {
      "application/vnd.jupyter.widget-view+json": {
       "model_id": "74a7e786e0bf40ad9138c7e4632d33f1",
       "version_major": 2,
       "version_minor": 0
      },
      "text/plain": [
       "Running Epoch 1 of 3:   0%|          | 0/622 [00:00<?, ?it/s]"
      ]
     },
     "metadata": {},
     "output_type": "display_data"
    },
    {
     "data": {
      "application/vnd.jupyter.widget-view+json": {
       "model_id": "1b87ca9304574035a71a11fed2948502",
       "version_major": 2,
       "version_minor": 0
      },
      "text/plain": [
       "Running Evaluation:   0%|          | 0/110 [00:00<?, ?it/s]"
      ]
     },
     "metadata": {},
     "output_type": "display_data"
    }
   ],
   "source": [
    "model_args.best_model_dir ='outputs/hatebert_olid'\n",
    "\n",
    "# Create a ClassificationModel\n",
    "hatebert_model_olid = ClassificationModel(\n",
    "    'bert', 'GroNLP/hateBERT', args=model_args\n",
    ")\n",
    "\n",
    "# Fine-tune the model\n",
    "hatebert_model_olid.train_model(train_data, eval_df=eval_data, output_dir='output/hatebert_olid')\n",
    "\n",
    "# Make predictions on new data\n",
    "#predictions, raw_outputs = model.predict([\"Example text 1\", \"Example text 2\"])\n",
    "\n",
    "# Evaluate the model\n",
    "hatebert_model_olid_result, hatebert_model_olid_outputs, hatebert_model_olid_wrong_predictions = hatebert_model_olid.eval_model(eval_data)\n"
   ]
  },
  {
   "cell_type": "code",
   "execution_count": 17,
   "id": "7c7d3091-f872-4e99-a314-f2d96c470192",
   "metadata": {},
   "outputs": [
    {
     "name": "stderr",
     "output_type": "stream",
     "text": [
      "Some weights of BertForSequenceClassification were not initialized from the model checkpoint at diptanu/fBERT and are newly initialized: ['bert.pooler.dense.bias', 'classifier.bias', 'classifier.weight', 'bert.pooler.dense.weight']\n",
      "You should probably TRAIN this model on a down-stream task to be able to use it for predictions and inference.\n"
     ]
    },
    {
     "data": {
      "application/vnd.jupyter.widget-view+json": {
       "model_id": "cf9a25a3a2214f9fb4e3e54ae71c99b0",
       "version_major": 2,
       "version_minor": 0
      },
      "text/plain": [
       "Epoch:   0%|          | 0/3 [00:00<?, ?it/s]"
      ]
     },
     "metadata": {},
     "output_type": "display_data"
    },
    {
     "data": {
      "application/vnd.jupyter.widget-view+json": {
       "model_id": "672ca66aea89434e9e75896495529f4a",
       "version_major": 2,
       "version_minor": 0
      },
      "text/plain": [
       "Running Epoch 0 of 3:   0%|          | 0/622 [00:00<?, ?it/s]"
      ]
     },
     "metadata": {},
     "output_type": "display_data"
    },
    {
     "data": {
      "application/vnd.jupyter.widget-view+json": {
       "model_id": "2ca836af2b5c4c078ee6425c66f1d854",
       "version_major": 2,
       "version_minor": 0
      },
      "text/plain": [
       "Running Epoch 1 of 3:   0%|          | 0/622 [00:00<?, ?it/s]"
      ]
     },
     "metadata": {},
     "output_type": "display_data"
    },
    {
     "data": {
      "application/vnd.jupyter.widget-view+json": {
       "model_id": "afcfefc317b64bf8aa2d8d16f9dc9fb2",
       "version_major": 2,
       "version_minor": 0
      },
      "text/plain": [
       "Running Evaluation:   0%|          | 0/110 [00:00<?, ?it/s]"
      ]
     },
     "metadata": {},
     "output_type": "display_data"
    }
   ],
   "source": [
    "model_args.best_model_dir ='outputs/fbert_olid'\n",
    "\n",
    "# Create a ClassificationModel\n",
    "fbert_model_olid = ClassificationModel(\n",
    "    'bert', 'diptanu/fBERT', args=model_args\n",
    ")\n",
    "\n",
    "# Fine-tune the model\n",
    "fbert_model_olid.train_model(train_data, eval_df=eval_data, output_dir='output/fbert_olid')\n",
    "\n",
    "# Make predictions on new data\n",
    "#predictions, raw_outputs = model.predict([\"Example text 1\", \"Example text 2\"])\n",
    "\n",
    "# Evaluate the model\n",
    "fbert_model_olid_result, fbert_model_olid_outputs, fbert_model_olid_wrong_predictions = fbert_model_olid.eval_model(eval_data)\n"
   ]
  },
  {
   "cell_type": "markdown",
   "id": "c0b5ffd6-e579-45cb-951c-606588a86d67",
   "metadata": {},
   "source": [
    "### ensemble methods\n",
    "hard majority voting:"
   ]
  },
  {
   "cell_type": "code",
   "execution_count": 19,
   "id": "45137488-6f78-4cb7-8688-d812c5c9edb5",
   "metadata": {},
   "outputs": [
    {
     "data": {
      "application/vnd.jupyter.widget-view+json": {
       "model_id": "bfe8a7706ad348f587ca6fe5cea6127f",
       "version_major": 2,
       "version_minor": 0
      },
      "text/plain": [
       "  0%|          | 0/108 [00:00<?, ?it/s]"
      ]
     },
     "metadata": {},
     "output_type": "display_data"
    },
    {
     "data": {
      "application/vnd.jupyter.widget-view+json": {
       "model_id": "bf77dffe9600436a87a69e0bfd04f9d7",
       "version_major": 2,
       "version_minor": 0
      },
      "text/plain": [
       "  0%|          | 0/108 [00:00<?, ?it/s]"
      ]
     },
     "metadata": {},
     "output_type": "display_data"
    },
    {
     "data": {
      "application/vnd.jupyter.widget-view+json": {
       "model_id": "b7207c36b26244d8b61a17f0358c4069",
       "version_major": 2,
       "version_minor": 0
      },
      "text/plain": [
       "  0%|          | 0/108 [00:00<?, ?it/s]"
      ]
     },
     "metadata": {},
     "output_type": "display_data"
    }
   ],
   "source": [
    "# Load individual pre-trained transformer models\n",
    "bert_model_olid = ClassificationModel(\"bert\", \"outputs/bert_olid\")\n",
    "hatebert_model_olid = ClassificationModel(\"bert\", \"outputs/hatebert_olid\")\n",
    "fbert_model_olid = ClassificationModel(\"bert\", \"outputs/fbert_olid\")\n",
    "\n",
    "# Make predictions using individual models\n",
    "bert_olid_predictions, bert_model_olid_outputs = bert_model_olid.predict(test_data[\"text\"].tolist())\n",
    "hatebert_olid_predictions, hatebert_model_olid_outputs = hatebert_model_olid.predict(test_data[\"text\"].tolist())\n",
    "fbert_olid_predictions, fbert_model_olid_outputs = fbert_model_olid.predict(test_data[\"text\"].tolist())\n",
    "\n",
    "# Perform hard majority voting ensemble\n",
    "hard_majority_predictions = np.array([np.argmax(np.bincount(votes)) for votes in zip(bert_olid_predictions,\n",
    "                                                                                     hatebert_olid_predictions,\n",
    "                                                                                     fbert_olid_predictions)])"
   ]
  },
  {
   "cell_type": "markdown",
   "id": "d4a1c213-eb8d-4d70-b31d-e40b67a10a28",
   "metadata": {
    "jupyter": {
     "outputs_hidden": true
    },
    "tags": []
   },
   "source": [
    "## soft majority voting"
   ]
  },
  {
   "cell_type": "code",
   "execution_count": 56,
   "id": "e83dea96-2adc-45ad-919d-dd91a4bb55f8",
   "metadata": {},
   "outputs": [],
   "source": [
    "# get probabilities from model prediction outputs with softmax:\n",
    "pr_bert = softmax(bert_model_olid_outputs, axis=1)\n",
    "pr_hatebert = softmax(hatebert_model_olid_outputs, axis=1)\n",
    "pr_fbert = softmax(fbert_model_olid_outputs, axis=1)\n",
    "#get the average of probabilities:\n",
    "average_probabilities = (pr_bert + pr_hatebert + pr_fbert) / 3\n",
    "# Get the class index with the highest average probability for each sample\n",
    "soft_majority_predictions = np.argmax(average_probabilities, axis=1)"
   ]
  },
  {
   "cell_type": "markdown",
   "id": "a2fc2066-bcc1-426a-82bf-30c95505b520",
   "metadata": {},
   "source": [
    "### get correlations between transformer models:"
   ]
  },
  {
   "cell_type": "code",
   "execution_count": 22,
   "id": "56c954af-c65a-42a3-a5df-023713695005",
   "metadata": {},
   "outputs": [],
   "source": [
    "# Calculate correlations using scipy's pearsonr function\n",
    "correlation_bert_hatebert = pearsonr(bert_olid_predictions, hatebert_olid_predictions)\n",
    "correlation_bert_fbert = pearsonr(bert_olid_predictions, fbert_olid_predictions)\n",
    "correlation_hatebert_fbert = pearsonr(hatebert_olid_predictions, fbert_olid_predictions)\n",
    "\n",
    "# putting correlations to dataframe:"
   ]
  },
  {
   "cell_type": "code",
   "execution_count": 51,
   "id": "02ff07aa-5f09-42a0-90ae-a51669808a5b",
   "metadata": {},
   "outputs": [],
   "source": [
    "dict_correlation_bert_hatebert = {\"corr\": correlation_bert_hatebert[0],\n",
    "                                 \"p-value\":correlation_bert_hatebert[1]}\n",
    "dict_correlation_bert_fbert = {\"corr\": correlation_bert_fbert[0],\n",
    "                                 \"p-value\":correlation_bert_fbert[1]}\n",
    "dict_correlation_hatebert_fbert = {\"corr\": correlation_hatebert_fbert[0],\n",
    "                                 \"p-value\":correlation_hatebert_fbert[1]}\n",
    "\n",
    "corr_indomain_df = pd.DataFrame([dict_correlation_bert_hatebert,dict_correlation_bert_fbert,dict_correlation_hatebert_fbert],\n",
    "            index=['bert_hatebert','bert_fbert','hatebert_fbert'])\n",
    "\n",
    "corr_indomain_df\n",
    "corr_indomain_df.to_csv('subjMining5/results/in-domain/model_correlations_hard_soft.csv')"
   ]
  },
  {
   "cell_type": "markdown",
   "id": "77561824-7b45-4e92-b065-012486e8ae14",
   "metadata": {},
   "source": [
    "### save predictions:"
   ]
  },
  {
   "cell_type": "code",
   "execution_count": 66,
   "id": "03ffc521-52c0-49a4-bd25-d12679e6905d",
   "metadata": {},
   "outputs": [],
   "source": [
    "predictions_df = test_data\n",
    "predictions_df['hard_majority_predictions'] = hard_majority_predictions\n",
    "predictions_df['soft_majority_predictions'] = soft_majority_predictions\n",
    "predictions_df.to_csv('subjMining5/results/in-domain/predictions_hard_soft.csv')"
   ]
  },
  {
   "cell_type": "markdown",
   "id": "e930cacd-5278-42c7-892f-f1dabbbc462e",
   "metadata": {},
   "source": [
    "### get classification report and confussion matrix"
   ]
  },
  {
   "cell_type": "code",
   "execution_count": 58,
   "id": "377b8a4e-4782-4732-a47a-a7ccc4d8595c",
   "metadata": {},
   "outputs": [
    {
     "data": {
      "image/png": "[encoded data removed]",
      "text/plain": [
       "<Figure size 640x480 with 2 Axes>"
      ]
     },
     "metadata": {},
     "output_type": "display_data"
    }
   ],
   "source": [
    "results(hard_majority_predictions, test_data['labels'], file_path='subjMining5/results/in-domain/hard majority voting/hard_majority_results')"
   ]
  },
  {
   "cell_type": "code",
   "execution_count": 59,
   "id": "51e27d39-7d8f-410e-be43-99e39e8e08e5",
   "metadata": {},
   "outputs": [
    {
     "data": {
      "image/png": "[encoded data removed]",
      "text/plain": [
       "<Figure size 640x480 with 2 Axes>"
      ]
     },
     "metadata": {},
     "output_type": "display_data"
    }
   ],
   "source": [
    "results(soft_majority_predictions, test_data['labels'], file_path='subjMining5/results/in-domain/soft majority voting/soft_majority_results')"
   ]
  }
 ],
 "metadata": {
  "environment": {
   "kernel": "conda-root-py",
   "name": "workbench-notebooks.m111",
   "type": "gcloud",
   "uri": "gcr.io/deeplearning-platform-release/workbench-notebooks:m111"
  },
  "kernelspec": {
   "display_name": "Python 3",
   "language": "python",
   "name": "conda-root-py"
  },
  "language_info": {
   "codemirror_mode": {
    "name": "ipython",
    "version": 3
   },
   "file_extension": ".py",
   "mimetype": "text/x-python",
   "name": "python",
   "nbconvert_exporter": "python",
   "pygments_lexer": "ipython3",
   "version": "3.10.12"
  }
 },
 "nbformat": 4,
 "nbformat_minor": 5
}
